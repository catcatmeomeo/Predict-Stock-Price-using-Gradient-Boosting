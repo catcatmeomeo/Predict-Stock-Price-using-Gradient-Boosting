{
 "cells": [
  {
   "cell_type": "code",
   "execution_count": 145,
   "id": "3d824aaa",
   "metadata": {},
   "outputs": [
    {
     "name": "stdout",
     "output_type": "stream",
     "text": [
      "Requirement already satisfied: xgboost in c:\\users\\tam\\anaconda3\\lib\\site-packages (2.0.3)\n",
      "Requirement already satisfied: numpy in c:\\users\\tam\\anaconda3\\lib\\site-packages (from xgboost) (1.24.3)\n",
      "Requirement already satisfied: scipy in c:\\users\\tam\\anaconda3\\lib\\site-packages (from xgboost) (1.11.1)\n"
     ]
    }
   ],
   "source": [
    "# Import Libraries\n",
    "import numpy as np\n",
    "import pandas as pd\n",
    "import matplotlib.pyplot as plt\n",
    "import sys\n",
    "!{sys.executable} -m pip install xgboost\n",
    "import xgboost as xgb"
   ]
  },
  {
   "cell_type": "code",
   "execution_count": 147,
   "id": "fc8b5674",
   "metadata": {},
   "outputs": [
    {
     "data": {
      "text/html": [
       "<div>\n",
       "<style scoped>\n",
       "    .dataframe tbody tr th:only-of-type {\n",
       "        vertical-align: middle;\n",
       "    }\n",
       "\n",
       "    .dataframe tbody tr th {\n",
       "        vertical-align: top;\n",
       "    }\n",
       "\n",
       "    .dataframe thead th {\n",
       "        text-align: right;\n",
       "    }\n",
       "</style>\n",
       "<table border=\"1\" class=\"dataframe\">\n",
       "  <thead>\n",
       "    <tr style=\"text-align: right;\">\n",
       "      <th></th>\n",
       "      <th>Ticker</th>\n",
       "      <th>Date/Time</th>\n",
       "      <th>Open</th>\n",
       "      <th>High</th>\n",
       "      <th>Low</th>\n",
       "      <th>Close</th>\n",
       "      <th>Volume</th>\n",
       "      <th>Open Interest</th>\n",
       "    </tr>\n",
       "  </thead>\n",
       "  <tbody>\n",
       "    <tr>\n",
       "      <th>0</th>\n",
       "      <td>FPT</td>\n",
       "      <td>12/25/2018 9:15</td>\n",
       "      <td>30.89</td>\n",
       "      <td>30.89</td>\n",
       "      <td>30.89</td>\n",
       "      <td>30.89</td>\n",
       "      <td>35410</td>\n",
       "      <td>0</td>\n",
       "    </tr>\n",
       "    <tr>\n",
       "      <th>1</th>\n",
       "      <td>FPT</td>\n",
       "      <td>12/25/2018 9:16</td>\n",
       "      <td>30.81</td>\n",
       "      <td>30.81</td>\n",
       "      <td>30.81</td>\n",
       "      <td>30.81</td>\n",
       "      <td>190</td>\n",
       "      <td>0</td>\n",
       "    </tr>\n",
       "    <tr>\n",
       "      <th>2</th>\n",
       "      <td>FPT</td>\n",
       "      <td>12/25/2018 9:17</td>\n",
       "      <td>30.74</td>\n",
       "      <td>30.81</td>\n",
       "      <td>30.74</td>\n",
       "      <td>30.74</td>\n",
       "      <td>1120</td>\n",
       "      <td>0</td>\n",
       "    </tr>\n",
       "    <tr>\n",
       "      <th>3</th>\n",
       "      <td>FPT</td>\n",
       "      <td>12/25/2018 9:18</td>\n",
       "      <td>30.74</td>\n",
       "      <td>30.74</td>\n",
       "      <td>30.74</td>\n",
       "      <td>30.74</td>\n",
       "      <td>2120</td>\n",
       "      <td>0</td>\n",
       "    </tr>\n",
       "    <tr>\n",
       "      <th>4</th>\n",
       "      <td>FPT</td>\n",
       "      <td>12/25/2018 9:19</td>\n",
       "      <td>30.74</td>\n",
       "      <td>30.74</td>\n",
       "      <td>30.74</td>\n",
       "      <td>30.74</td>\n",
       "      <td>22500</td>\n",
       "      <td>0</td>\n",
       "    </tr>\n",
       "  </tbody>\n",
       "</table>\n",
       "</div>"
      ],
      "text/plain": [
       "  Ticker        Date/Time   Open   High    Low  Close  Volume  Open Interest\n",
       "0    FPT  12/25/2018 9:15  30.89  30.89  30.89  30.89   35410              0\n",
       "1    FPT  12/25/2018 9:16  30.81  30.81  30.81  30.81     190              0\n",
       "2    FPT  12/25/2018 9:17  30.74  30.81  30.74  30.74    1120              0\n",
       "3    FPT  12/25/2018 9:18  30.74  30.74  30.74  30.74    2120              0\n",
       "4    FPT  12/25/2018 9:19  30.74  30.74  30.74  30.74   22500              0"
      ]
     },
     "execution_count": 147,
     "metadata": {},
     "output_type": "execute_result"
    }
   ],
   "source": [
    "df=pd.read_csv('FPT.csv', sep = ',')\n",
    "df.head(5)"
   ]
  },
  {
   "cell_type": "code",
   "execution_count": 148,
   "id": "4cd88c48",
   "metadata": {},
   "outputs": [
    {
     "data": {
      "text/plain": [
       "<Axes: >"
      ]
     },
     "execution_count": 148,
     "metadata": {},
     "output_type": "execute_result"
    },
    {
     "data": {
      "image/png": "[encoded data removed]",
      "text/plain": [
       "<Figure size 640x480 with 1 Axes>"
      ]
     },
     "metadata": {},
     "output_type": "display_data"
    }
   ],
   "source": [
    "#Show data visually\n",
    "df['Close'].plot()"
   ]
  },
  {
   "cell_type": "code",
   "execution_count": 149,
   "id": "a759dd95",
   "metadata": {},
   "outputs": [],
   "source": [
    "# Split the data into training and testing data set\n",
    "train_set = df.iloc[:int(.99*len(df)), :]\n",
    "test_set = df.iloc[int(.99*len(df)):, :]"
   ]
  },
  {
   "cell_type": "code",
   "execution_count": 150,
   "id": "393a476f",
   "metadata": {},
   "outputs": [],
   "source": [
    "# Define the features and target variable\n",
    "features = ['Open', 'Volume']\n",
    "target = 'Close'"
   ]
  },
  {
   "cell_type": "code",
   "execution_count": 151,
   "id": "e620e60d",
   "metadata": {},
   "outputs": [
    {
     "data": {
      "text/html": [
       "<style>#sk-container-id-4 {color: black;}#sk-container-id-4 pre{padding: 0;}#sk-container-id-4 div.sk-toggleable {background-color: white;}#sk-container-id-4 label.sk-toggleable__label {cursor: pointer;display: block;width: 100%;margin-bottom: 0;padding: 0.3em;box-sizing: border-box;text-align: center;}#sk-container-id-4 label.sk-toggleable__label-arrow:before {content: \"▸\";float: left;margin-right: 0.25em;color: #696969;}#sk-container-id-4 label.sk-toggleable__label-arrow:hover:before {color: black;}#sk-container-id-4 div.sk-estimator:hover label.sk-toggleable__label-arrow:before {color: black;}#sk-container-id-4 div.sk-toggleable__content {max-height: 0;max-width: 0;overflow: hidden;text-align: left;background-color: #f0f8ff;}#sk-container-id-4 div.sk-toggleable__content pre {margin: 0.2em;color: black;border-radius: 0.25em;background-color: #f0f8ff;}#sk-container-id-4 input.sk-toggleable__control:checked~div.sk-toggleable__content {max-height: 200px;max-width: 100%;overflow: auto;}#sk-container-id-4 input.sk-toggleable__control:checked~label.sk-toggleable__label-arrow:before {content: \"▾\";}#sk-container-id-4 div.sk-estimator input.sk-toggleable__control:checked~label.sk-toggleable__label {background-color: #d4ebff;}#sk-container-id-4 div.sk-label input.sk-toggleable__control:checked~label.sk-toggleable__label {background-color: #d4ebff;}#sk-container-id-4 input.sk-hidden--visually {border: 0;clip: rect(1px 1px 1px 1px);clip: rect(1px, 1px, 1px, 1px);height: 1px;margin: -1px;overflow: hidden;padding: 0;position: absolute;width: 1px;}#sk-container-id-4 div.sk-estimator {font-family: monospace;background-color: #f0f8ff;border: 1px dotted black;border-radius: 0.25em;box-sizing: border-box;margin-bottom: 0.5em;}#sk-container-id-4 div.sk-estimator:hover {background-color: #d4ebff;}#sk-container-id-4 div.sk-parallel-item::after {content: \"\";width: 100%;border-bottom: 1px solid gray;flex-grow: 1;}#sk-container-id-4 div.sk-label:hover label.sk-toggleable__label {background-color: #d4ebff;}#sk-container-id-4 div.sk-serial::before {content: \"\";position: absolute;border-left: 1px solid gray;box-sizing: border-box;top: 0;bottom: 0;left: 50%;z-index: 0;}#sk-container-id-4 div.sk-serial {display: flex;flex-direction: column;align-items: center;background-color: white;padding-right: 0.2em;padding-left: 0.2em;position: relative;}#sk-container-id-4 div.sk-item {position: relative;z-index: 1;}#sk-container-id-4 div.sk-parallel {display: flex;align-items: stretch;justify-content: center;background-color: white;position: relative;}#sk-container-id-4 div.sk-item::before, #sk-container-id-4 div.sk-parallel-item::before {content: \"\";position: absolute;border-left: 1px solid gray;box-sizing: border-box;top: 0;bottom: 0;left: 50%;z-index: -1;}#sk-container-id-4 div.sk-parallel-item {display: flex;flex-direction: column;z-index: 1;position: relative;background-color: white;}#sk-container-id-4 div.sk-parallel-item:first-child::after {align-self: flex-end;width: 50%;}#sk-container-id-4 div.sk-parallel-item:last-child::after {align-self: flex-start;width: 50%;}#sk-container-id-4 div.sk-parallel-item:only-child::after {width: 0;}#sk-container-id-4 div.sk-dashed-wrapped {border: 1px dashed gray;margin: 0 0.4em 0.5em 0.4em;box-sizing: border-box;padding-bottom: 0.4em;background-color: white;}#sk-container-id-4 div.sk-label label {font-family: monospace;font-weight: bold;display: inline-block;line-height: 1.2em;}#sk-container-id-4 div.sk-label-container {text-align: center;}#sk-container-id-4 div.sk-container {/* jupyter's `normalize.less` sets `[hidden] { display: none; }` but bootstrap.min.css set `[hidden] { display: none !important; }` so we also need the `!important` here to be able to override the default hidden behavior on the sphinx rendered scikit-learn.org. See: https://github.com/scikit-learn/scikit-learn/issues/21755 */display: inline-block !important;position: relative;}#sk-container-id-4 div.sk-text-repr-fallback {display: none;}</style><div id=\"sk-container-id-4\" class=\"sk-top-container\"><div class=\"sk-text-repr-fallback\"><pre>XGBRegressor(base_score=None, booster=None, callbacks=None,\n",
       "             colsample_bylevel=None, colsample_bynode=None,\n",
       "             colsample_bytree=None, device=None, early_stopping_rounds=None,\n",
       "             enable_categorical=False, eval_metric=None, feature_types=None,\n",
       "             gamma=None, grow_policy=None, importance_type=None,\n",
       "             interaction_constraints=None, learning_rate=None, max_bin=None,\n",
       "             max_cat_threshold=None, max_cat_to_onehot=None,\n",
       "             max_delta_step=None, max_depth=None, max_leaves=None,\n",
       "             min_child_weight=None, missing=nan, monotone_constraints=None,\n",
       "             multi_strategy=None, n_estimators=None, n_jobs=None,\n",
       "             num_parallel_tree=None, random_state=None, ...)</pre><b>In a Jupyter environment, please rerun this cell to show the HTML representation or trust the notebook. <br />On GitHub, the HTML representation is unable to render, please try loading this page with nbviewer.org.</b></div><div class=\"sk-container\" hidden><div class=\"sk-item\"><div class=\"sk-estimator sk-toggleable\"><input class=\"sk-toggleable__control sk-hidden--visually\" id=\"sk-estimator-id-4\" type=\"checkbox\" checked><label for=\"sk-estimator-id-4\" class=\"sk-toggleable__label sk-toggleable__label-arrow\">XGBRegressor</label><div class=\"sk-toggleable__content\"><pre>XGBRegressor(base_score=None, booster=None, callbacks=None,\n",
       "             colsample_bylevel=None, colsample_bynode=None,\n",
       "             colsample_bytree=None, device=None, early_stopping_rounds=None,\n",
       "             enable_categorical=False, eval_metric=None, feature_types=None,\n",
       "             gamma=None, grow_policy=None, importance_type=None,\n",
       "             interaction_constraints=None, learning_rate=None, max_bin=None,\n",
       "             max_cat_threshold=None, max_cat_to_onehot=None,\n",
       "             max_delta_step=None, max_depth=None, max_leaves=None,\n",
       "             min_child_weight=None, missing=nan, monotone_constraints=None,\n",
       "             multi_strategy=None, n_estimators=None, n_jobs=None,\n",
       "             num_parallel_tree=None, random_state=None, ...)</pre></div></div></div></div></div>"
      ],
      "text/plain": [
       "XGBRegressor(base_score=None, booster=None, callbacks=None,\n",
       "             colsample_bylevel=None, colsample_bynode=None,\n",
       "             colsample_bytree=None, device=None, early_stopping_rounds=None,\n",
       "             enable_categorical=False, eval_metric=None, feature_types=None,\n",
       "             gamma=None, grow_policy=None, importance_type=None,\n",
       "             interaction_constraints=None, learning_rate=None, max_bin=None,\n",
       "             max_cat_threshold=None, max_cat_to_onehot=None,\n",
       "             max_delta_step=None, max_depth=None, max_leaves=None,\n",
       "             min_child_weight=None, missing=nan, monotone_constraints=None,\n",
       "             multi_strategy=None, n_estimators=None, n_jobs=None,\n",
       "             num_parallel_tree=None, random_state=None, ...)"
      ]
     },
     "execution_count": 151,
     "metadata": {},
     "output_type": "execute_result"
    }
   ],
   "source": [
    "#Create and train model \n",
    "model = xgb.XGBRegressor()\n",
    "model.fit(train_set[features], train_set[target])"
   ]
  },
  {
   "cell_type": "code",
   "execution_count": 152,
   "id": "47fd981a",
   "metadata": {},
   "outputs": [
    {
     "name": "stdout",
     "output_type": "stream",
     "text": [
      "Model Predictions\n",
      "[57.36127  57.35322  57.31463  57.426807 57.369278 57.19509  57.314747\n",
      " 57.197807 57.415604 57.22089  57.381027 57.192352 57.325844 57.39604\n",
      " 57.33815  57.378872 57.468857 57.2444   57.213528 57.1988   57.25021\n",
      " 57.186916 57.39604  57.300766 57.381027 57.325844 57.212193 57.345665\n",
      " 57.330833 57.40024  57.407036 57.381977 57.232628 57.23021  57.32581\n",
      " 57.380955 57.3381   57.325844 57.334507 57.468857 57.121014 57.210167\n",
      " 57.332325 57.337326 57.313583 57.405823 57.37285  57.220036 57.398033\n",
      " 57.229057 57.454754 57.380955 57.213993 57.349483 57.402767 57.347683\n",
      " 57.359272 57.345585 57.36671  57.371593 57.364174 57.337708 57.21458\n",
      " 57.3458   57.39657  57.42604  57.345585 57.373962 57.377796 57.359802\n",
      " 57.335762 57.35948  57.3457   57.362015 57.292595 57.287685 57.20529\n",
      " 57.221104 57.246284 57.25913  56.97213  56.845875 56.86423  56.72746\n",
      " 56.65523  56.833687 56.883667 56.9397   56.77862  56.73596  56.85702\n",
      " 56.79981  56.742813 56.829323 56.84513  56.887253 56.856342 56.870113\n",
      " 56.88856  56.876965 56.812744 57.21976  57.250076 57.215843 57.219852\n",
      " 57.29463  57.218567 56.87208  56.858677 56.835648 56.598698 56.78465\n",
      " 56.598698 56.79391  56.826935 56.82548  56.82168  56.925594 56.837315\n",
      " 56.87208  56.859077 56.743065 56.86142  56.700165 56.911747 56.722843\n",
      " 56.86351  56.845875 56.82168  56.986023 56.82313  56.857975 56.782814\n",
      " 56.804363 56.986023 56.72568  56.778595 56.755836 56.696465 56.734528\n",
      " 56.734528 56.87208  56.738026 56.97213  56.741913 56.726498 56.734528\n",
      " 56.97213  56.73712  56.800674 56.73094  56.726498 56.737404 56.743114\n",
      " 56.857746 56.75515  56.82548  56.734528 56.75814  56.84513  56.715096\n",
      " 56.718147 56.90909  56.73712  56.78062  56.866203 56.88841  56.72713\n",
      " 56.78062  56.718147 56.734528 56.925594 56.928524 56.826935 56.73712\n",
      " 56.887253 56.986023 56.78893  56.831577 56.86531  56.72746  56.858185\n",
      " 56.78465  56.808495 56.846596 56.833687 56.857124 56.737404 56.743065\n",
      " 56.75814  56.869656 56.79452  56.7237   56.78465  56.861576 56.778595\n",
      " 56.84486  56.837315 56.859077 56.836872 56.82836  56.85702  56.82548\n",
      " 56.78062  56.82548  56.729977 56.729977 56.86966  56.835648 56.841652\n",
      " 56.82168  56.891922 56.881382 56.857975 56.75814  56.812744 56.743065\n",
      " 56.598698 56.77623  56.860706 56.755566 56.715096 56.882896 56.72746\n",
      " 56.77862  56.84513  56.861576 56.754375 56.787403 56.79391  56.88332\n",
      " 56.914513 56.79391  56.833687 56.857746 56.82548  56.754375 56.88332\n",
      " 56.73655  56.833687 56.883667 56.89027  56.881382 56.856342 56.80443\n",
      " 56.715096 56.787403 56.902172 56.84317  56.891922 56.857746 56.800674\n",
      " 56.865692 56.726498 56.726498 56.9397   56.778595 56.743065 56.734528\n",
      " 56.778595 56.804363 56.857746 56.874348 56.870113 56.851013 56.836414\n",
      " 56.84513  56.89094  56.858677 56.73596  56.87208  56.88841  56.598698\n",
      " 56.86966  56.914513 56.86966  56.84486  56.7839   56.82313  56.860706\n",
      " 56.84513  56.727997 56.870113 56.82548  56.826935 56.72746  56.833687\n",
      " 56.82836  56.84486  56.598698 56.755836 56.857746 56.86423  56.86932\n",
      " 56.831577 56.598698 56.829323 56.836414 56.7528   56.78139  56.718815\n",
      " 56.841652 56.778595 56.90909  56.881382 56.826935 56.804363 56.800674\n",
      " 56.103504 56.20311  56.16291  56.204124 56.204124 56.186214 56.15038\n",
      " 56.158024 56.210617 56.247814 56.205524 56.252476 56.2478   56.176765\n",
      " 56.20074  56.121357 56.193104 56.20074  56.152607 56.175957 56.816723\n",
      " 56.778595 56.196804 56.78062  56.73712  56.874348 56.881382 56.7528\n",
      " 56.81569  56.69472  56.727997 56.7839   56.833683 56.7237   56.71419\n",
      " 56.841652 56.869656 56.79391  56.76524  56.91269  56.72746  56.874348\n",
      " 56.858677 56.86423  56.72746  56.87208  56.743114 56.69472  56.84317\n",
      " 56.86351  56.780056 56.738026 56.736748 56.729977 56.857746 56.727997\n",
      " 56.877094 56.858185 56.882896 56.781868 56.754375 56.883667 56.907352\n",
      " 56.86966  56.739212 56.911747 56.902172 56.78013  56.845875 56.86932\n",
      " 56.88856  56.852444 56.73596  56.907352 56.737404 56.90909  56.86932\n",
      " 56.781868 56.780056 56.727997 56.859077 56.816723 56.787403 56.883755\n",
      " 56.88332  56.75814  56.882896 56.82836  56.82548  56.90909  56.700165\n",
      " 56.835648 56.778595 56.69472  56.754375 56.856342 56.84486  56.787403\n",
      " 56.86932  56.86423  56.88841  56.831577 56.82313  56.85702  56.739212\n",
      " 56.82313  56.75814  56.846596 56.78893  56.781868 56.85702  56.911747\n",
      " 56.84486  56.865692 56.82836  56.88911  56.77862  56.902172 56.739212\n",
      " 56.84486  56.84486  56.75515  56.85702  56.87387  56.86142  56.72746\n",
      " 56.898888 56.82168  56.808495 56.598698 56.887253 56.881382 56.80443\n",
      " 56.768845 56.898888 56.857975 56.82313  56.82313  56.882896 56.88911\n",
      " 56.88911  56.787403 56.859077 56.84513  56.763554 56.858185 56.78742\n",
      " 56.856342 56.86585  56.87387  56.882896 56.78013  56.80443  56.787403\n",
      " 56.835354 56.80443  56.858185 56.72713  56.902172 56.870113 56.907352\n",
      " 56.82313  56.851013 56.861576 56.80443  56.743065 56.845875 56.902374\n",
      " 56.727997 56.87387  56.781868 56.833683 56.836872 56.743065 56.870113\n",
      " 56.835648 56.90909  56.84513  56.836414 56.7237   56.88841  56.78062\n",
      " 56.902172 56.84486  56.911747 56.857975 56.816723 56.84513  56.86142\n",
      " 56.833687 56.97213  56.84486  56.86142  56.739212 56.833687 56.84486\n",
      " 56.883667 56.72713  56.86966  56.73844  56.82548  56.851013 56.79391\n",
      " 56.82548  56.876965 56.836414 56.911747 56.743065 56.833687 56.743065\n",
      " 56.87387  56.790115 56.780056 56.826935 56.743065 56.902374 56.856342\n",
      " 56.851013 56.856342 56.84486  56.84486  56.73844  56.833687 56.694782\n",
      " 56.851013 56.88332  56.833687 56.860706 56.97213  56.836414 56.85702\n",
      " 56.775505 56.598698 56.808495 56.72746  56.71419  56.986023 57.348263\n",
      " 57.41663  57.353214 57.31652  57.370632 57.32581  57.32341  57.432392\n",
      " 57.36519  57.334507 57.348755 57.30826  57.37812  57.474365 57.214535\n",
      " 57.35008  57.46044  57.21074  57.414997 56.841652 57.195263 57.232903\n",
      " 57.193913 57.258785 57.22089  57.1988   57.22998  57.22061  56.743065\n",
      " 56.74569  56.73094  57.216824 57.2185   57.21067  57.21633  56.882896\n",
      " 57.2444   57.177124 57.24391  57.396652 57.236294 57.225082 57.320442\n",
      " 57.453896 57.292942 57.5168   57.5168   57.33505  57.410984 57.401714\n",
      " 57.32341  57.31652  57.396652 57.380405 57.380405 57.36513  57.35008\n",
      " 57.36739  57.337708 57.342052 57.37285  57.36929  57.328697 57.35772\n",
      " 57.379856 57.41663  57.37411  57.379562 57.17011  57.360577 57.33448\n",
      " 57.37453  57.426807 57.353027 57.348755 57.40093  57.300766 57.36671\n",
      " 57.33448  57.32696  57.358883 57.368618 57.381977 57.389656 57.378876\n",
      " 57.364445 57.382847 57.349483 57.485554 57.335796 57.36127  57.39657\n",
      " 57.32581  57.414997 57.485554 57.385498 57.320442 57.371433 57.410984\n",
      " 57.39657  57.35772  57.374966 57.406254 57.379562 57.414997 57.39657\n",
      " 57.372925 57.36127  57.369278 57.35588  57.371593 57.349525 57.375504\n",
      " 57.39121  57.32581  57.381027 57.368618 57.433823 57.432392 57.362015\n",
      " 57.31463  57.334507 57.330833 57.32852  57.348263 57.435402 57.364174\n",
      " 57.39604  57.33505  57.426376 57.371307 57.364765 57.30826  57.33679\n",
      " 57.338345 57.407036 57.411976 57.300766 57.338028 57.410984 57.32696\n",
      " 57.369278 57.377193 57.378872 57.381027 57.31463  57.361145 57.39657\n",
      " 57.37411  57.38527  57.357777 57.35623  57.34355  57.389736 57.426807\n",
      " 57.453896 57.335796 57.36739  57.336052 57.380405 57.352154 57.426807\n",
      " 57.364174 57.39604  57.35322  57.345585 57.357777 57.389736 57.373962\n",
      " 57.3442   57.349483 57.325844 57.373962 57.381027 57.426807 57.373962\n",
      " 57.35623  57.335796 57.337326 57.204067 57.381027 57.39121  57.332325\n",
      " 57.32696  57.347683 57.39604  57.330833 57.433823 57.36127  57.328697\n",
      " 57.37522  57.34071  57.402782 57.41663  57.39121  57.405823 57.485554\n",
      " 57.353027 57.42604  57.468857 57.348755 57.373962 57.37812  57.369278\n",
      " 57.32852  57.369278 57.474365 57.381027 57.373962 57.33679  57.327522\n",
      " 57.396423 57.332325 57.5168   57.453896 57.364174 57.32341  57.325844\n",
      " 57.437466 57.37812  57.369278 57.461285 57.369278 57.46044  57.454754\n",
      " 57.364174 57.34071  57.380955 57.363586 57.402782 57.36929  57.327522\n",
      " 57.396957 57.371593 57.39604  57.33679  57.396957 57.332325 57.381977\n",
      " 57.3457   57.41805  57.396957 57.351704 57.36127  57.3458   57.300766\n",
      " 57.466908 57.36127  57.36739  57.292595 57.37812  57.32341  57.352154\n",
      " 57.357254 57.461285 57.439922 57.369278 57.30826  57.314747 57.33837\n",
      " 57.426807 57.345585 57.398033 57.389736 57.300766 57.381977 57.347683\n",
      " 57.34071  57.332325 57.373962 57.30826  57.39121  57.362015 57.292595\n",
      " 57.453896 57.359272 57.39178  57.32341  57.381027 57.363586 57.405823\n",
      " 57.36127  57.377193 57.432392 57.311066 57.300766 57.292942 57.36127\n",
      " 57.33815  57.325844 57.312557 57.36671  57.35322  57.32341  57.381027\n",
      " 57.352154 57.414997 57.364174 57.39178  57.396423 57.348755 57.330833\n",
      " 57.402782 57.392525 57.337326 57.337708 57.406254 57.349483 57.381027\n",
      " 57.36671  57.34042  57.38527  57.327522 57.396957 57.37781  57.349525\n",
      " 57.338345 57.33837  57.435402 57.34042  57.503735 57.35948  57.36681\n",
      " 57.364765 57.336052 57.36127  57.325844 57.396957 57.353214 57.34042\n",
      " 57.320442 57.377193 57.312557 57.377796 57.349483 57.371593 57.364174\n",
      " 57.36519  57.348755 57.369278 57.32341  57.31463  57.396423 57.357254\n",
      " 57.379856 57.35588  57.37812  57.348415 57.345585 57.371593 57.40093\n",
      " 57.426807 57.39121  57.380955 57.426807 57.327522 57.373962 57.314747\n",
      " 57.364708 57.443142 57.32696  57.36671  57.443142 57.335762 57.396957\n",
      " 57.314747 57.34897  57.362644 57.362644 57.37285  57.368618 57.34071\n",
      " 57.358883 57.287685 57.345665 57.335762 57.474365 57.381027 57.353027\n",
      " 57.46044  57.381027 57.426807 57.317616 57.325306 57.371307 57.426376\n",
      " 57.352154 57.474365 57.414997 57.320442 57.370632 57.474365 57.5168\n",
      " 57.348415 57.375504 57.686954 57.80096  57.683273 57.7704   57.64312\n",
      " 57.7704   57.7704   57.712227 57.688164 57.7704   57.691933 57.81949\n",
      " 57.731667 57.74949  57.730312 57.677113 57.743114 57.760994 57.739906\n",
      " 57.755463 57.636017 57.696796 57.722305 57.661877 57.69683  57.6618\n",
      " 57.78741  57.697086 57.683884 57.70772  57.775394 57.76168  57.671246\n",
      " 57.653976 57.718754]\n"
     ]
    }
   ],
   "source": [
    "# Make and show the predictions on the test data\n",
    "predictions = model.predict(test_set[features])\n",
    "print('Model Predictions')\n",
    "print(predictions)"
   ]
  },
  {
   "cell_type": "code",
   "execution_count": 153,
   "id": "4c639f6b",
   "metadata": {},
   "outputs": [
    {
     "name": "stdout",
     "output_type": "stream",
     "text": [
      "Actual Values: \n",
      "96431    57.4\n",
      "96432    57.4\n",
      "96433    57.4\n",
      "96434    57.4\n",
      "96435    57.2\n",
      "         ... \n",
      "97401    58.2\n",
      "97402    58.2\n",
      "97403    58.2\n",
      "97404    58.1\n",
      "97405    58.1\n",
      "Name: Close, Length: 975, dtype: float64\n"
     ]
    }
   ],
   "source": [
    "# show the actual values\n",
    "print('Actual Values: ')\n",
    "print(test_set[target])"
   ]
  },
  {
   "cell_type": "markdown",
   "id": "1f061e84",
   "metadata": {},
   "source": [
    "#show the model accuracy"
   ]
  },
  {
   "cell_type": "code",
   "execution_count": 154,
   "id": "62e0f0e8",
   "metadata": {},
   "outputs": [
    {
     "name": "stdout",
     "output_type": "stream",
     "text": [
      "Accuracy: \n",
      "0.806603925323556\n"
     ]
    }
   ],
   "source": [
    "accuracy = model.score(test_set[features], test_set[target])\n",
    "print('Accuracy: ')\n",
    "print(accuracy)"
   ]
  },
  {
   "cell_type": "code",
   "execution_count": 155,
   "id": "59b9cab0",
   "metadata": {},
   "outputs": [
    {
     "data": {
      "image/png": "[encoded data removed]",
      "text/plain": [
       "<Figure size 640x480 with 1 Axes>"
      ]
     },
     "metadata": {},
     "output_type": "display_data"
    }
   ],
   "source": [
    "#Plot the predictions and the close price\n",
    "plt.plot(df['Close'], label = 'Close Price')\n",
    "plt.plot(test_set[target].index, predictions, label = 'Predictions')\n",
    "plt.legend()\n",
    "plt.show()"
   ]
  }
 ],
 "metadata": {
  "kernelspec": {
   "display_name": "Python 3 (ipykernel)",
   "language": "python",
   "name": "python3"
  },
  "language_info": {
   "codemirror_mode": {
    "name": "ipython",
    "version": 3
   },
   "file_extension": ".py",
   "mimetype": "text/x-python",
   "name": "python",
   "nbconvert_exporter": "python",
   "pygments_lexer": "ipython3",
   "version": "3.11.5"
  }
 },
 "nbformat": 4,
 "nbformat_minor": 5
}
